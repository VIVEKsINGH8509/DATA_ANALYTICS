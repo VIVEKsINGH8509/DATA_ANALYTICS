{
  "nbformat": 4,
  "nbformat_minor": 0,
  "metadata": {
    "colab": {
      "provenance": []
    },
    "kernelspec": {
      "name": "python3",
      "display_name": "Python 3"
    },
    "language_info": {
      "name": "python"
    }
  },
  "cells": [
    {
      "cell_type": "code",
      "execution_count": null,
      "metadata": {
        "id": "1ih8FkypAfT_"
      },
      "outputs": [],
      "source": [
        "import numpy as np\n"
      ]
    },
    {
      "cell_type": "code",
      "source": [
        "my_list = [1,2,3]\n",
        "my_array = np.array([1,2,3])"
      ],
      "metadata": {
        "id": "6piBo6B5Agda"
      },
      "execution_count": null,
      "outputs": []
    },
    {
      "cell_type": "code",
      "source": [
        "print (type(my_list))\n",
        "print (type(my_array))"
      ],
      "metadata": {
        "colab": {
          "base_uri": "https://localhost:8080/"
        },
        "id": "dn5NZZNhAggB",
        "outputId": "b00aeda0-8d96-4d7c-fa6b-06e2f944daad"
      },
      "execution_count": null,
      "outputs": [
        {
          "output_type": "stream",
          "name": "stdout",
          "text": [
            "<class 'list'>\n",
            "<class 'numpy.ndarray'>\n"
          ]
        }
      ]
    },
    {
      "cell_type": "code",
      "source": [
        "print(np.array(my_list))"
      ],
      "metadata": {
        "colab": {
          "base_uri": "https://localhost:8080/"
        },
        "id": "FCYArhPyAgiw",
        "outputId": "3df6070a-e367-41c3-ef66-d2aba356c3f7"
      },
      "execution_count": null,
      "outputs": [
        {
          "output_type": "stream",
          "name": "stdout",
          "text": [
            "[1 2 3]\n"
          ]
        }
      ]
    },
    {
      "cell_type": "code",
      "source": [
        "# or from a list of list\n",
        "my_matrix = [[1,2,3],[4,5,6],[7,8,9]]\n",
        "print(np.array(my_matrix))"
      ],
      "metadata": {
        "colab": {
          "base_uri": "https://localhost:8080/"
        },
        "id": "HzGMdaOrAglp",
        "outputId": "7d04b531-4f3f-4438-bf44-1639804708cd"
      },
      "execution_count": null,
      "outputs": [
        {
          "output_type": "stream",
          "name": "stdout",
          "text": [
            "[[1 2 3]\n",
            " [4 5 6]\n",
            " [7 8 9]]\n"
          ]
        }
      ]
    },
    {
      "cell_type": "code",
      "source": [
        "# creating arrays using built-in functions\n",
        "# Return evenly spaced value within a given interval\n",
        "# start, stop , step\n",
        "\n",
        "# arange : specify the step/gap between concecutive elements\n",
        "\n",
        "print(np.arange(0,10))\n",
        "print(np.arange(0,11,2))"
      ],
      "metadata": {
        "colab": {
          "base_uri": "https://localhost:8080/"
        },
        "id": "r9zAffCnAgoZ",
        "outputId": "d4988133-661b-46a0-9a35-be645432b4bb"
      },
      "execution_count": null,
      "outputs": [
        {
          "output_type": "stream",
          "name": "stdout",
          "text": [
            "[0 1 2 3 4 5 6 7 8 9]\n",
            "[ 0  2  4  6  8 10]\n"
          ]
        }
      ]
    },
    {
      "cell_type": "code",
      "source": [
        "# generate arrays of zeros and ones\n",
        "\n",
        "print(np.zeros(3))\n",
        "print(np.zeros((5,5)))\n",
        "print(np.ones(3))\n",
        "print(np.ones((3,3)))"
      ],
      "metadata": {
        "colab": {
          "base_uri": "https://localhost:8080/"
        },
        "id": "e5YIosgEAgq4",
        "outputId": "8dbb0adf-8867-49bc-a032-57bde17c2db5"
      },
      "execution_count": null,
      "outputs": [
        {
          "output_type": "stream",
          "name": "stdout",
          "text": [
            "[0. 0. 0.]\n",
            "[[0. 0. 0. 0. 0.]\n",
            " [0. 0. 0. 0. 0.]\n",
            " [0. 0. 0. 0. 0.]\n",
            " [0. 0. 0. 0. 0.]\n",
            " [0. 0. 0. 0. 0.]]\n",
            "[1. 1. 1.]\n",
            "[[1. 1. 1.]\n",
            " [1. 1. 1.]\n",
            " [1. 1. 1.]]\n"
          ]
        }
      ]
    },
    {
      "cell_type": "code",
      "source": [
        "# Returned evenly spaced numbers over a specified interval\n",
        "# Start , stop , no. of elements (and not step)\n",
        "#\n",
        "# specified  no. of values (num)\n",
        "\n",
        "print(np.linspace(0,10,3))\n",
        "print(np.linspace(0,5,20))\n",
        "print(np.linspace(0,5,21))\n"
      ],
      "metadata": {
        "colab": {
          "base_uri": "https://localhost:8080/"
        },
        "id": "eEWMcplMCmHF",
        "outputId": "67eeb27f-199b-4e7d-9cb8-2a61d6d23e9d"
      },
      "execution_count": null,
      "outputs": [
        {
          "output_type": "stream",
          "name": "stdout",
          "text": [
            "[ 0.  5. 10.]\n",
            "[0.         0.26315789 0.52631579 0.78947368 1.05263158 1.31578947\n",
            " 1.57894737 1.84210526 2.10526316 2.36842105 2.63157895 2.89473684\n",
            " 3.15789474 3.42105263 3.68421053 3.94736842 4.21052632 4.47368421\n",
            " 4.73684211 5.        ]\n",
            "[0.   0.25 0.5  0.75 1.   1.25 1.5  1.75 2.   2.25 2.5  2.75 3.   3.25\n",
            " 3.5  3.75 4.   4.25 4.5  4.75 5.  ]\n"
          ]
        }
      ]
    },
    {
      "cell_type": "code",
      "source": [
        "# Random number arrays\n",
        "\n",
        "print(np.random.rand(2))\n",
        "print(np.random.rand(5,5))"
      ],
      "metadata": {
        "colab": {
          "base_uri": "https://localhost:8080/"
        },
        "id": "QVS6S7xEDJML",
        "outputId": "8022be7c-8e4a-42e4-cecf-a0f32d8f81b3"
      },
      "execution_count": null,
      "outputs": [
        {
          "output_type": "stream",
          "name": "stdout",
          "text": [
            "[0.08731955 0.78800206]\n",
            "[[0.32615094 0.54106782 0.24023518 0.54542293 0.4005545 ]\n",
            " [0.71519189 0.83667994 0.58848114 0.29615456 0.28101769]\n",
            " [0.70559724 0.42259643 0.05731599 0.74702731 0.45231301]\n",
            " [0.17577474 0.049377   0.29247534 0.06679913 0.75115649]\n",
            " [0.06377152 0.43190832 0.36417241 0.15197153 0.54671034]]\n"
          ]
        }
      ]
    },
    {
      "cell_type": "code",
      "source": [
        "# For normal Distribution\n",
        "print(np.random.randn(2))\n",
        "print(np.random.randn(5,5))"
      ],
      "metadata": {
        "colab": {
          "base_uri": "https://localhost:8080/"
        },
        "id": "uxQ5Iw_nEDC7",
        "outputId": "562fe23b-c079-454d-85df-c68de1f1c826"
      },
      "execution_count": null,
      "outputs": [
        {
          "output_type": "stream",
          "name": "stdout",
          "text": [
            "[-0.51555091 -0.06301549]\n",
            "[[-0.55937093  0.79669711  0.45607646 -1.04570413 -0.29449133]\n",
            " [-0.7875427  -1.00801883 -2.11616844  0.66204133 -0.31489931]\n",
            " [-0.7060172   0.84032066 -0.75952485 -0.39050736  0.66186708]\n",
            " [-0.11713577 -0.97164688 -1.98064121  0.86024347 -1.00596744]\n",
            " [ 2.61790811  0.19121545 -0.87231244 -0.42512567  0.63358874]]\n"
          ]
        }
      ]
    },
    {
      "cell_type": "code",
      "source": [
        "# Random integers from low (inclusive) to high (exclusive)\n",
        "\n",
        "print(np.random.randint(1,100))  #Single Random integers between 1 and 100\n",
        "print(np.random.randint(1,100,10))  # 10 random integers between 1 and 100"
      ],
      "metadata": {
        "colab": {
          "base_uri": "https://localhost:8080/"
        },
        "id": "TTXc5SUAEXrZ",
        "outputId": "7488a0a8-d86c-46e8-b390-f469b639c1f6"
      },
      "execution_count": null,
      "outputs": [
        {
          "output_type": "stream",
          "name": "stdout",
          "text": [
            "36\n",
            "[38 31 27 36 19 43 45 43 74 66]\n"
          ]
        }
      ]
    },
    {
      "cell_type": "code",
      "source": [
        "# Seeding for reproductable results\n",
        "\n",
        "np.random.seed(77)\n",
        "print(np.random.rand(4))  # 4 random numbers"
      ],
      "metadata": {
        "colab": {
          "base_uri": "https://localhost:8080/"
        },
        "id": "78ud65R2FC3n",
        "outputId": "6a646841-61c9-4d46-e08a-945ebb22c76c"
      },
      "execution_count": null,
      "outputs": [
        {
          "output_type": "stream",
          "name": "stdout",
          "text": [
            "[0.91910903 0.6421956  0.75371223 0.13931457]\n"
          ]
        }
      ]
    },
    {
      "cell_type": "code",
      "source": [
        "# sequence random number - unpredictable  - seed -> SAme for the same seed all over the worls at once"
      ],
      "metadata": {
        "id": "7fCv-9WrFZj7"
      },
      "execution_count": null,
      "outputs": []
    },
    {
      "cell_type": "code",
      "source": [
        "# Sorting\n",
        "\n",
        "arr = np.arange(25)    # no. from 0 to 24\n",
        "ranarr = np.random.randint(0,50,10)   # 10 random no. between 0 and 50\n",
        "print(arr)\n",
        "print(ranarr)"
      ],
      "metadata": {
        "colab": {
          "base_uri": "https://localhost:8080/"
        },
        "id": "eynndWMRGVah",
        "outputId": "36d8cf40-faae-4d1e-c8b2-ebe02383a9a1"
      },
      "execution_count": null,
      "outputs": [
        {
          "output_type": "stream",
          "name": "stdout",
          "text": [
            "[ 0  1  2  3  4  5  6  7  8  9 10 11 12 13 14 15 16 17 18 19 20 21 22 23\n",
            " 24]\n",
            "[32 39 44 19 32 36 36 47 14 15]\n"
          ]
        }
      ]
    },
    {
      "cell_type": "code",
      "source": [
        "# reshape : returns an array containing the same data with neew shape\n",
        "print(arr.reshape(5,5))"
      ],
      "metadata": {
        "colab": {
          "base_uri": "https://localhost:8080/"
        },
        "id": "5kqHbGPmGy1l",
        "outputId": "15c3d87a-30e3-4c74-f2e9-b1e064e3a16c"
      },
      "execution_count": null,
      "outputs": [
        {
          "output_type": "stream",
          "name": "stdout",
          "text": [
            "[[ 0  1  2  3  4]\n",
            " [ 5  6  7  8  9]\n",
            " [10 11 12 13 14]\n",
            " [15 16 17 18 19]\n",
            " [20 21 22 23 24]]\n"
          ]
        }
      ]
    },
    {
      "cell_type": "code",
      "source": [
        "# Max , Min abd their index position\n",
        "\n",
        "print(ranarr.max())\n",
        "print(ranarr.argmax())\n",
        "\n",
        "print(ranarr.min())\n",
        "print(ranarr.argmin( ))"
      ],
      "metadata": {
        "colab": {
          "base_uri": "https://localhost:8080/"
        },
        "id": "UMfCluZ0HByw",
        "outputId": "9d7309a6-36f7-4e7d-d43b-5ce9b6904942"
      },
      "execution_count": null,
      "outputs": [
        {
          "output_type": "stream",
          "name": "stdout",
          "text": [
            "47\n",
            "7\n",
            "14\n",
            "8\n"
          ]
        }
      ]
    },
    {
      "cell_type": "code",
      "source": [
        "#  Creating dample array\n",
        "arr = np.arange(0,11)\n",
        "print(arr)"
      ],
      "metadata": {
        "colab": {
          "base_uri": "https://localhost:8080/"
        },
        "id": "V-AQwpaVHbrR",
        "outputId": "95746756-f79d-4834-ccf6-2543acc483ef"
      },
      "execution_count": null,
      "outputs": [
        {
          "output_type": "stream",
          "name": "stdout",
          "text": [
            "[ 0  1  2  3  4  5  6  7  8  9 10]\n"
          ]
        }
      ]
    },
    {
      "cell_type": "code",
      "source": [
        "# Bracket indexing and selection - similar to python list\n",
        "\n",
        "# get values at particular index\n",
        "print(arr[8])\n",
        "\n",
        "# get values in a range\n",
        "print(arr[1:5])\n",
        "\n",
        "# Get values in a range\n",
        "print(arr[0:5])"
      ],
      "metadata": {
        "colab": {
          "base_uri": "https://localhost:8080/"
        },
        "id": "ptWFS7RhH6Wi",
        "outputId": "30da6546-fafc-4b3f-e8b0-f04c71d7ff29"
      },
      "execution_count": null,
      "outputs": [
        {
          "output_type": "stream",
          "name": "stdout",
          "text": [
            "8\n",
            "[1 2 3 4]\n",
            "[0 1 2 3 4]\n"
          ]
        }
      ]
    },
    {
      "cell_type": "code",
      "source": [
        "# Broadcasting\n",
        "\n",
        "# setting a value with index range (broadcasting )\n",
        "arr[0:5] = 100\n",
        "print(arr)"
      ],
      "metadata": {
        "colab": {
          "base_uri": "https://localhost:8080/"
        },
        "id": "PuPmVbHzIXNT",
        "outputId": "c772bd66-0cff-45fe-ee65-24e569f7f1a7"
      },
      "execution_count": null,
      "outputs": [
        {
          "output_type": "stream",
          "name": "stdout",
          "text": [
            "[100 100 100 100 100   5   6   7   8   9  10]\n"
          ]
        }
      ]
    },
    {
      "cell_type": "code",
      "source": [
        "# reset array ?\n",
        "\n",
        "arr =  np.arange(0,11)\n",
        "print(arr)\n"
      ],
      "metadata": {
        "colab": {
          "base_uri": "https://localhost:8080/"
        },
        "id": "feXJmf4fIw3W",
        "outputId": "25b726c2-6fb7-418a-effd-5fc29791786f"
      },
      "execution_count": null,
      "outputs": [
        {
          "output_type": "stream",
          "name": "stdout",
          "text": [
            "[ 0  1  2  3  4  5  6  7  8  9 10]\n"
          ]
        }
      ]
    },
    {
      "cell_type": "code",
      "source": [
        "# Important notes on slices\n",
        "\n",
        "slice_of_arr = arr[0:6]\n",
        "print(slice_of_arr)"
      ],
      "metadata": {
        "colab": {
          "base_uri": "https://localhost:8080/"
        },
        "id": "_92r3bonJAgO",
        "outputId": "b8e23c57-a53a-4dcd-e1c0-de6ef5bbad9a"
      },
      "execution_count": null,
      "outputs": [
        {
          "output_type": "stream",
          "name": "stdout",
          "text": [
            "[0 1 2 3 4 5]\n"
          ]
        }
      ]
    },
    {
      "cell_type": "code",
      "source": [
        "# change slice\n",
        "\n",
        "slice_of_arr[:] = 99\n",
        "print(slice_of_arr)\n",
        "print(arr)\n",
        "\n",
        "\n",
        "\n",
        "# Changes made are also there in our orignal array !\n",
        "# data is not copied , it is the view of the orignal array !\n",
        "# This avoids memory Problem"
      ],
      "metadata": {
        "colab": {
          "base_uri": "https://localhost:8080/"
        },
        "id": "vNz2sTwuJOBH",
        "outputId": "eaa45036-72d7-4d08-d3e1-2d773fa89bd8"
      },
      "execution_count": null,
      "outputs": [
        {
          "output_type": "stream",
          "name": "stdout",
          "text": [
            "[99 99 99 99 99 99]\n",
            "[99 99 99 99 99 99  6  7  8  9 10]\n"
          ]
        }
      ]
    },
    {
      "cell_type": "code",
      "source": [
        "li1 = [1,2,3, 4, 5,6,7,8,9]\n",
        "sliced_li =li1[0:5]\n",
        "print(sliced_li)\n",
        "# sliced_li[:] = 99\n",
        "print(li1)\n",
        "print(sliced_li)"
      ],
      "metadata": {
        "colab": {
          "base_uri": "https://localhost:8080/"
        },
        "id": "SYkHAXXYJhHs",
        "outputId": "1a8867a3-6ad9-41de-9ef6-2fdc06b051ca"
      },
      "execution_count": null,
      "outputs": [
        {
          "output_type": "stream",
          "name": "stdout",
          "text": [
            "[1, 2, 3, 4, 5]\n",
            "[1, 2, 3, 4, 5, 6, 7, 8, 9]\n",
            "[1, 2, 3, 4, 5]\n"
          ]
        }
      ]
    },
    {
      "cell_type": "code",
      "source": [
        "# Conditional selection\n",
        "\n",
        "arr = np.arange(1,11)\n",
        "print(arr)\n",
        "\n",
        "# Check each element of the array against the conditon  arr>4\n",
        "# each element i sTrue if the correspoding element in\n",
        "print(arr>4)"
      ],
      "metadata": {
        "colab": {
          "base_uri": "https://localhost:8080/"
        },
        "id": "xqO_EiomKSfT",
        "outputId": "007379da-ac9b-4bd9-c69f-1f7bf9e41e28"
      },
      "execution_count": null,
      "outputs": [
        {
          "output_type": "stream",
          "name": "stdout",
          "text": [
            "[ 1  2  3  4  5  6  7  8  9 10]\n",
            "[False False False False  True  True  True  True  True  True]\n"
          ]
        }
      ]
    },
    {
      "cell_type": "code",
      "source": [
        "# store boolean results in another array\n",
        "bool_arr = arr>4\n",
        "print(bool_arr)"
      ],
      "metadata": {
        "colab": {
          "base_uri": "https://localhost:8080/"
        },
        "id": "_pePxw2zKmQ3",
        "outputId": "83f7ec0a-7e06-47b0-853d-7e486cf2376d"
      },
      "execution_count": null,
      "outputs": [
        {
          "output_type": "stream",
          "name": "stdout",
          "text": [
            "[False False False False  True  True  True  True  True  True]\n"
          ]
        }
      ]
    },
    {
      "cell_type": "code",
      "source": [
        "#Select only those elements from the arr array where\n",
        "# the corrsponding element in bool_arr is True\n",
        "# If Effectively filters out the elements of arr where the condition arr > 4 is\n",
        "# Truwe\n",
        "print(arr[bool_arr])"
      ],
      "metadata": {
        "colab": {
          "base_uri": "https://localhost:8080/"
        },
        "id": "j7hcUF3aLN7i",
        "outputId": "b6fec5b1-de73-4608-aa1b-6ccbfd8cb871"
      },
      "execution_count": null,
      "outputs": [
        {
          "output_type": "stream",
          "name": "stdout",
          "text": [
            "[ 5  6  7  8  9 10]\n"
          ]
        }
      ]
    },
    {
      "cell_type": "code",
      "source": [],
      "metadata": {
        "id": "9eZ0N37rLm1_"
      },
      "execution_count": null,
      "outputs": []
    },
    {
      "cell_type": "markdown",
      "source": [
        "aaaaaaaaaaaarrrrrrrrrrrrrrraaaaaaaaaaaaaaaaaaaaayyyyyyyyyyyyy"
      ],
      "metadata": {
        "id": "gK9nBwmgMkUP"
      }
    },
    {
      "cell_type": "code",
      "source": [
        "arr = np.arange(0,11)\n",
        "print(arr)"
      ],
      "metadata": {
        "colab": {
          "base_uri": "https://localhost:8080/"
        },
        "id": "tLgtAElrMmy5",
        "outputId": "f39abbe0-af59-4063-def5-be795fde815d"
      },
      "execution_count": null,
      "outputs": [
        {
          "output_type": "stream",
          "name": "stdout",
          "text": [
            "[ 0  1  2  3  4  5  6  7  8  9 10]\n"
          ]
        }
      ]
    },
    {
      "cell_type": "code",
      "source": [
        "# Basic arithmetic\n",
        "print(arr + arr)\n",
        "print(arr - arr)\n",
        "print(arr * arr)"
      ],
      "metadata": {
        "colab": {
          "base_uri": "https://localhost:8080/"
        },
        "id": "7TuySwusM12k",
        "outputId": "78b641d1-253e-4826-b2dc-e5cb0384b35d"
      },
      "execution_count": null,
      "outputs": [
        {
          "output_type": "stream",
          "name": "stdout",
          "text": [
            "[ 0  2  4  6  8 10 12 14 16 18 20]\n",
            "[0 0 0 0 0 0 0 0 0 0 0]\n",
            "[  0   1   4   9  16  25  36  49  64  81 100]\n"
          ]
        }
      ]
    },
    {
      "cell_type": "code",
      "source": [
        "# this will raise a ewarning on divbision by zeri but not an error !\n",
        "# it just fill spot by nan\n",
        "print(arr/0)\n",
        "print(arr/arr)"
      ],
      "metadata": {
        "colab": {
          "base_uri": "https://localhost:8080/"
        },
        "id": "U44fIOFKM4Sy",
        "outputId": "5f4ba3f6-74bb-44a0-c4b8-a23b27d35ad0"
      },
      "execution_count": null,
      "outputs": [
        {
          "output_type": "stream",
          "name": "stdout",
          "text": [
            "[nan inf inf inf inf inf inf inf inf inf inf]\n",
            "[nan  1.  1.  1.  1.  1.  1.  1.  1.  1.  1.]\n"
          ]
        },
        {
          "output_type": "stream",
          "name": "stderr",
          "text": [
            "<ipython-input-50-f9b141a1c081>:2: RuntimeWarning: divide by zero encountered in divide\n",
            "  print(arr/0)\n",
            "<ipython-input-50-f9b141a1c081>:2: RuntimeWarning: invalid value encountered in divide\n",
            "  print(arr/0)\n",
            "<ipython-input-50-f9b141a1c081>:3: RuntimeWarning: invalid value encountered in divide\n",
            "  print(arr/arr)\n"
          ]
        }
      ]
    },
    {
      "cell_type": "code",
      "source": [
        "# also a warning (but not error ) relating to infinity\n",
        "print(1/arr)"
      ],
      "metadata": {
        "colab": {
          "base_uri": "https://localhost:8080/"
        },
        "id": "dC6F2PYONTb6",
        "outputId": "1577a567-8521-46ec-a9f2-2d7ad17152cd"
      },
      "execution_count": null,
      "outputs": [
        {
          "output_type": "stream",
          "name": "stdout",
          "text": [
            "[       inf 1.         0.5        0.33333333 0.25       0.2\n",
            " 0.16666667 0.14285714 0.125      0.11111111 0.1       ]\n"
          ]
        },
        {
          "output_type": "stream",
          "name": "stderr",
          "text": [
            "<ipython-input-51-4a5320b6a105>:2: RuntimeWarning: divide by zero encountered in divide\n",
            "  print(1/arr)\n"
          ]
        }
      ]
    },
    {
      "cell_type": "code",
      "source": [
        "print(arr**3)"
      ],
      "metadata": {
        "colab": {
          "base_uri": "https://localhost:8080/"
        },
        "id": "Ugll5RZLNmg_",
        "outputId": "fc4ff305-6fd1-4d02-b3f4-9060c919428d"
      },
      "execution_count": null,
      "outputs": [
        {
          "output_type": "stream",
          "name": "stdout",
          "text": [
            "[   0    1    8   27   64  125  216  343  512  729 1000]\n"
          ]
        }
      ]
    },
    {
      "cell_type": "code",
      "source": [
        "# universal functions\n",
        "print(np.sqrt(arr))\n",
        "print(np.exp(arr))\n",
        "print(np.max(arr))\n",
        "print(np.sin(arr))\n",
        "print(np.log(arr))"
      ],
      "metadata": {
        "colab": {
          "base_uri": "https://localhost:8080/"
        },
        "id": "kL1C3jIRNp6d",
        "outputId": "bd3adf77-025a-4368-b803-3fa9ccd0a42d"
      },
      "execution_count": null,
      "outputs": [
        {
          "output_type": "stream",
          "name": "stdout",
          "text": [
            "[0.         1.         1.41421356 1.73205081 2.         2.23606798\n",
            " 2.44948974 2.64575131 2.82842712 3.         3.16227766]\n",
            "[1.00000000e+00 2.71828183e+00 7.38905610e+00 2.00855369e+01\n",
            " 5.45981500e+01 1.48413159e+02 4.03428793e+02 1.09663316e+03\n",
            " 2.98095799e+03 8.10308393e+03 2.20264658e+04]\n",
            "10\n",
            "[ 0.          0.84147098  0.90929743  0.14112001 -0.7568025  -0.95892427\n",
            " -0.2794155   0.6569866   0.98935825  0.41211849 -0.54402111]\n",
            "[      -inf 0.         0.69314718 1.09861229 1.38629436 1.60943791\n",
            " 1.79175947 1.94591015 2.07944154 2.19722458 2.30258509]\n"
          ]
        },
        {
          "output_type": "stream",
          "name": "stderr",
          "text": [
            "<ipython-input-53-7e8ef198a63a>:6: RuntimeWarning: divide by zero encountered in log\n",
            "  print(np.log(arr))\n"
          ]
        }
      ]
    },
    {
      "cell_type": "code",
      "source": [
        "# summary stastics\n",
        "print(np.sum(arr))\n",
        "print(np.min(arr))\n",
        "print(np.max(arr))\n",
        "print(np.var(arr))\n",
        "print(np.median(arr))\n",
        "print(np.corrcoef(arr))\n",
        "print(np.std(arr))\n",
        "print(np.mean(arr))\n",
        "print(np.average(arr))\n",
        "\n",
        "\n",
        "\n",
        "\n",
        "\n"
      ],
      "metadata": {
        "colab": {
          "base_uri": "https://localhost:8080/"
        },
        "id": "jY6hW7r-NurZ",
        "outputId": "0fbecf42-6253-4e8e-80c2-1fdf961b5ea2"
      },
      "execution_count": null,
      "outputs": [
        {
          "output_type": "stream",
          "name": "stdout",
          "text": [
            "55\n",
            "0\n",
            "10\n",
            "10.0\n",
            "5.0\n",
            "1.0\n",
            "3.1622776601683795\n",
            "5.0\n",
            "5.0\n"
          ]
        }
      ]
    },
    {
      "cell_type": "code",
      "source": [
        "# 2d Arrays\n",
        "# yhis is 2d array with 3 rows an 4 columns\n",
        "\n",
        "arr_2d = np.array([[5,10,15],[20,25,30],[35,40,45]])\n",
        "print(arr_2d)"
      ],
      "metadata": {
        "colab": {
          "base_uri": "https://localhost:8080/"
        },
        "id": "lfILl3HeOALc",
        "outputId": "c9b20524-0a68-42b1-cb5c-61f6336ad42b"
      },
      "execution_count": null,
      "outputs": [
        {
          "output_type": "stream",
          "name": "stdout",
          "text": [
            "[[ 5 10 15]\n",
            " [20 25 30]\n",
            " [35 40 45]]\n"
          ]
        }
      ]
    },
    {
      "cell_type": "code",
      "source": [
        "# row and column count\n",
        "print(arr_2d.shape)\n",
        "# Sum od all columns for each row\n",
        "print(arr_2d.sum(axis=0))\n",
        "# Sum od all rows for each column\n",
        "print(arr_2d.sum(axis=1))"
      ],
      "metadata": {
        "colab": {
          "base_uri": "https://localhost:8080/"
        },
        "id": "10EYSnfFOcRr",
        "outputId": "2c7c2826-d7f6-47d1-e7ed-5ca59022e565"
      },
      "execution_count": null,
      "outputs": [
        {
          "output_type": "stream",
          "name": "stdout",
          "text": [
            "(3, 3)\n",
            "[60 75 90]\n",
            "[ 30  75 120]\n"
          ]
        }
      ]
    },
    {
      "cell_type": "code",
      "source": [],
      "metadata": {
        "id": "_ckaMXEnOrbu"
      },
      "execution_count": null,
      "outputs": []
    },
    {
      "cell_type": "markdown",
      "source": [
        "ASSIGNMENT\n"
      ],
      "metadata": {
        "id": "zMo9Knb_PmE2"
      }
    },
    {
      "cell_type": "code",
      "source": [
        "#1. Create an array of 10 zeros\n",
        "are = np.zeros(10)\n",
        "print(are)"
      ],
      "metadata": {
        "colab": {
          "base_uri": "https://localhost:8080/"
        },
        "id": "eaZs4HwXPndv",
        "outputId": "26f2746a-ede1-4f82-e6d8-9dce13cdfc5e"
      },
      "execution_count": null,
      "outputs": [
        {
          "output_type": "stream",
          "name": "stdout",
          "text": [
            "[0. 0. 0. 0. 0. 0. 0. 0. 0. 0.]\n"
          ]
        }
      ]
    },
    {
      "cell_type": "code",
      "source": [
        "#2. create an array of 10 ones\n",
        "arr = np.ones(10)\n",
        "print(arr)"
      ],
      "metadata": {
        "colab": {
          "base_uri": "https://localhost:8080/"
        },
        "id": "gHwfy-vgP5Je",
        "outputId": "79f2f81c-2158-46a5-fdf3-4330f33a0376"
      },
      "execution_count": null,
      "outputs": [
        {
          "output_type": "stream",
          "name": "stdout",
          "text": [
            "[1. 1. 1. 1. 1. 1. 1. 1. 1. 1.]\n"
          ]
        }
      ]
    },
    {
      "cell_type": "code",
      "source": [
        "# 3. create an array of ten fives\n",
        "arr = np.ones(10)*5\n",
        "print(arr)"
      ],
      "metadata": {
        "colab": {
          "base_uri": "https://localhost:8080/"
        },
        "id": "wa-42Eh4QJra",
        "outputId": "6a0669ca-0ec2-4791-c7d9-67573a63b459"
      },
      "execution_count": null,
      "outputs": [
        {
          "output_type": "stream",
          "name": "stdout",
          "text": [
            "[5. 5. 5. 5. 5. 5. 5. 5. 5. 5.]\n"
          ]
        }
      ]
    },
    {
      "cell_type": "code",
      "source": [
        "#4. create an array of integers from 10-50\n",
        "arr  = np.arange(10,51)\n",
        "print(arr)"
      ],
      "metadata": {
        "colab": {
          "base_uri": "https://localhost:8080/"
        },
        "id": "cvueNkVpQNWo",
        "outputId": "59cff42b-28c6-4e97-9fe2-25be815dc142"
      },
      "execution_count": null,
      "outputs": [
        {
          "output_type": "stream",
          "name": "stdout",
          "text": [
            "[10 11 12 13 14 15 16 17 18 19 20 21 22 23 24 25 26 27 28 29 30 31 32 33\n",
            " 34 35 36 37 38 39 40 41 42 43 44 45 46 47 48 49 50]\n"
          ]
        }
      ]
    },
    {
      "cell_type": "code",
      "source": [
        "# 5. create an array of all even integers from 10 to 50\n",
        "\n",
        "arr = np.arange(10,51,2)\n",
        "print(arr)"
      ],
      "metadata": {
        "colab": {
          "base_uri": "https://localhost:8080/"
        },
        "id": "_7jm9tWTQano",
        "outputId": "3ca87aa2-4ed0-414a-a890-4cdb8dded3f5"
      },
      "execution_count": null,
      "outputs": [
        {
          "output_type": "stream",
          "name": "stdout",
          "text": [
            "[10 12 14 16 18 20 22 24 26 28 30 32 34 36 38 40 42 44 46 48 50]\n"
          ]
        }
      ]
    },
    {
      "cell_type": "code",
      "source": [
        "# 6. create a 3x3 matrix with value ranging from 0 to 8\n",
        "arr = np.arange(0,9).reshape(3,3)\n",
        "print(arr)"
      ],
      "metadata": {
        "colab": {
          "base_uri": "https://localhost:8080/"
        },
        "id": "wt6as9mTQvZe",
        "outputId": "f441e92e-90dc-42ba-9bf4-dc12048189da"
      },
      "execution_count": null,
      "outputs": [
        {
          "output_type": "stream",
          "name": "stdout",
          "text": [
            "[[0 1 2]\n",
            " [3 4 5]\n",
            " [6 7 8]]\n"
          ]
        }
      ]
    },
    {
      "cell_type": "code",
      "source": [
        "# 7. create a 3 x3 identity matrix\n",
        "arr = np.eye(3)\n",
        "print(arr)"
      ],
      "metadata": {
        "colab": {
          "base_uri": "https://localhost:8080/"
        },
        "id": "W976Ss0YRCHF",
        "outputId": "9acb21cf-3157-4cbf-a998-928b38a292d7"
      },
      "execution_count": null,
      "outputs": [
        {
          "output_type": "stream",
          "name": "stdout",
          "text": [
            "[[1. 0. 0.]\n",
            " [0. 1. 0.]\n",
            " [0. 0. 1.]]\n"
          ]
        }
      ]
    },
    {
      "cell_type": "code",
      "source": [
        "# 8 .use numpy to generate random no. betwwen 0 and 1\n",
        "print(np.random.rand(1))"
      ],
      "metadata": {
        "colab": {
          "base_uri": "https://localhost:8080/"
        },
        "id": "EB4jx4EURMNl",
        "outputId": "c7620a1c-430a-410e-ba71-83d4b453d637"
      },
      "execution_count": null,
      "outputs": [
        {
          "output_type": "stream",
          "name": "stdout",
          "text": [
            "[0.83667994]\n"
          ]
        }
      ]
    },
    {
      "cell_type": "code",
      "source": [
        "# 9. generate array of 25 random 25 numpers\n",
        "arr = np.random.rand(25)\n",
        "print(arr)"
      ],
      "metadata": {
        "colab": {
          "base_uri": "https://localhost:8080/"
        },
        "id": "Sj-5OBhiRVY_",
        "outputId": "a9ad2c32-9a30-41a6-8e3b-a7221b25d107"
      },
      "execution_count": null,
      "outputs": [
        {
          "output_type": "stream",
          "name": "stdout",
          "text": [
            "[0.4964146  0.67356546 0.93930446 0.35401226 0.71195678 0.13115485\n",
            " 0.33414418 0.34672086 0.54914661 0.09991748 0.41623021 0.26035148\n",
            " 0.84715927 0.51420117 0.02475884 0.22955234 0.82490318 0.24832847\n",
            " 0.79215201 0.511191   0.22973667 0.90227905 0.49431534 0.54042068\n",
            " 0.22135471]\n"
          ]
        }
      ]
    },
    {
      "cell_type": "code",
      "source": [
        "# 10 create an array of 20 linearly spaced point b/w 0 and 1\n",
        "print(np.linspace(0,1,20))"
      ],
      "metadata": {
        "colab": {
          "base_uri": "https://localhost:8080/"
        },
        "id": "Hdl1JlQ3RoiB",
        "outputId": "e064ebe6-f472-4399-8fa4-b2a44b0e0eb0"
      },
      "execution_count": null,
      "outputs": [
        {
          "output_type": "stream",
          "name": "stdout",
          "text": [
            "[0.         0.05263158 0.10526316 0.15789474 0.21052632 0.26315789\n",
            " 0.31578947 0.36842105 0.42105263 0.47368421 0.52631579 0.57894737\n",
            " 0.63157895 0.68421053 0.73684211 0.78947368 0.84210526 0.89473684\n",
            " 0.94736842 1.        ]\n"
          ]
        }
      ]
    },
    {
      "cell_type": "code",
      "source": [],
      "metadata": {
        "id": "o-nWFPHaR3wM"
      },
      "execution_count": null,
      "outputs": []
    }
  ]
}