{
  "nbformat": 4,
  "nbformat_minor": 0,
  "metadata": {
    "colab": {
      "provenance": [],
      "authorship_tag": "ABX9TyNdFWdpcu3T5oS0VV51MFjx",
      "include_colab_link": true
    },
    "kernelspec": {
      "name": "python3",
      "display_name": "Python 3"
    },
    "language_info": {
      "name": "python"
    }
  },
  "cells": [
    {
      "cell_type": "markdown",
      "metadata": {
        "id": "view-in-github",
        "colab_type": "text"
      },
      "source": [
        "<a href=\"https://colab.research.google.com/github/VIVEKsINGH8509/DATA_ANALYTICS/blob/main/DA_LAB1_numpy.ipynb\" target=\"_parent\"><img src=\"https://colab.research.google.com/assets/colab-badge.svg\" alt=\"Open In Colab\"/></a>"
      ]
    },
    {
      "cell_type": "code",
      "execution_count": null,
      "metadata": {
        "id": "BRxnR0VWhlOP"
      },
      "outputs": [],
      "source": [
        "import pandas as pd\n",
        "import numpy as np\n"
      ]
    },
    {
      "cell_type": "code",
      "source": [
        "# 1. Write a NumPy program to get the numpy version and show numpy build configuration.\n",
        "print(np.__version__)"
      ],
      "metadata": {
        "colab": {
          "base_uri": "https://localhost:8080/"
        },
        "id": "_fH86B35hnph",
        "outputId": "1a1bc4fc-097a-4b5f-b1f7-a4ec8920d93a"
      },
      "execution_count": null,
      "outputs": [
        {
          "output_type": "stream",
          "name": "stdout",
          "text": [
            "1.26.4\n"
          ]
        }
      ]
    },
    {
      "cell_type": "code",
      "source": [
        "# 2 . Write a NumPy program to get help on the add function.\n",
        "\n"
      ],
      "metadata": {
        "id": "FPT8NQCbiBRY"
      },
      "execution_count": null,
      "outputs": []
    },
    {
      "cell_type": "code",
      "source": [
        "# 3 . Write a NumPy program to test whether none of the elements of a given array is zero.\n",
        "x = np.array([1,2,3,4,0])\n",
        "y = np.array([0,0,0,0,0,0,0])\n",
        "print(np.all(x))"
      ],
      "metadata": {
        "colab": {
          "base_uri": "https://localhost:8080/"
        },
        "id": "YdNBpkhkkPrm",
        "outputId": "7e43d9c6-74d0-482f-da1d-91c607988294"
      },
      "execution_count": null,
      "outputs": [
        {
          "output_type": "stream",
          "name": "stdout",
          "text": [
            "False\n"
          ]
        }
      ]
    },
    {
      "cell_type": "code",
      "source": [
        "# 4 . Write a NumPy program to test whether any of the elements of a given array is non-zero.\n",
        "print(np.any(x))\n",
        "print(np.any(y))\n",
        "\n"
      ],
      "metadata": {
        "colab": {
          "base_uri": "https://localhost:8080/"
        },
        "id": "BNe7dydskd7d",
        "outputId": "4a23eccf-2a2e-4b6a-811a-9df9dd92c541"
      },
      "execution_count": null,
      "outputs": [
        {
          "output_type": "stream",
          "name": "stdout",
          "text": [
            "True\n",
            "False\n"
          ]
        }
      ]
    },
    {
      "cell_type": "code",
      "source": [
        "# 5. Write a NumPy program to test a given array element-wise for finiteness (not infinity or not a Number).\n",
        "a = np.array([1, 0, -5, np.nan, np.inf])\n",
        "print(np.isfinite(a))\n"
      ],
      "metadata": {
        "colab": {
          "base_uri": "https://localhost:8080/"
        },
        "id": "i9Uaz9yXlbT3",
        "outputId": "fd28f776-2865-48b9-aeba-c78c780be7dd"
      },
      "execution_count": null,
      "outputs": [
        {
          "output_type": "stream",
          "name": "stdout",
          "text": [
            "[ True  True  True False False]\n"
          ]
        }
      ]
    },
    {
      "cell_type": "code",
      "source": [
        "# 6. Write a NumPy program to test element-wise for positive or negative infinity.\n",
        "print(np.isinf(a))\n"
      ],
      "metadata": {
        "colab": {
          "base_uri": "https://localhost:8080/"
        },
        "id": "e0iGnolFmuai",
        "outputId": "eec68134-2bf9-48ea-a171-e8b1b0eb5960"
      },
      "execution_count": null,
      "outputs": [
        {
          "output_type": "stream",
          "name": "stdout",
          "text": [
            "[False False False False  True]\n"
          ]
        }
      ]
    },
    {
      "cell_type": "code",
      "source": [
        "#  7. Write a NumPy program to test element-wise for NaN of a given array.\n",
        "print(np.isnan(a))"
      ],
      "metadata": {
        "colab": {
          "base_uri": "https://localhost:8080/"
        },
        "id": "PN3g_GwBnwUo",
        "outputId": "3d98fb44-2ebf-424a-ef50-00eee012025d"
      },
      "execution_count": null,
      "outputs": [
        {
          "output_type": "stream",
          "name": "stdout",
          "text": [
            "[False False False  True False]\n"
          ]
        }
      ]
    },
    {
      "cell_type": "code",
      "source": [
        "# # 8. Write a NumPy program to test element-wise for complex number, real number of a given array. Also\n",
        "# test whether a given number is a scalar type or not.\n",
        "a = [1+1j ,2 , 3.4, 5, 6]\n",
        "\n",
        "np.iscomplex(a)\n"
      ],
      "metadata": {
        "colab": {
          "base_uri": "https://localhost:8080/"
        },
        "id": "qDsU_5AvsSxW",
        "outputId": "0cd01129-a04d-4f82-dc92-e94499a0075f"
      },
      "execution_count": null,
      "outputs": [
        {
          "output_type": "execute_result",
          "data": {
            "text/plain": [
              "True"
            ]
          },
          "metadata": {},
          "execution_count": 37
        }
      ]
    },
    {
      "cell_type": "code",
      "source": [
        "a = [1+1j ,2 , 3.4, 5, 6]\n",
        "np.isreal(a)"
      ],
      "metadata": {
        "colab": {
          "base_uri": "https://localhost:8080/"
        },
        "id": "d9HMrAyUsnF9",
        "outputId": "a9c6e72d-77c2-4d50-e5c8-32e39b9c4f02"
      },
      "execution_count": null,
      "outputs": [
        {
          "output_type": "execute_result",
          "data": {
            "text/plain": [
              "array([False,  True,  True,  True,  True])"
            ]
          },
          "metadata": {},
          "execution_count": 40
        }
      ]
    },
    {
      "cell_type": "code",
      "source": [
        "a = [1+1j ,2 , 3.4, 5, 6]\n",
        "np.isscalar(a)\n"
      ],
      "metadata": {
        "colab": {
          "base_uri": "https://localhost:8080/"
        },
        "id": "yqDu3VMurkcM",
        "outputId": "2613a765-eb82-475c-8e69-f4012d7636d7"
      },
      "execution_count": null,
      "outputs": [
        {
          "output_type": "execute_result",
          "data": {
            "text/plain": [
              "False"
            ]
          },
          "metadata": {},
          "execution_count": 42
        }
      ]
    },
    {
      "cell_type": "code",
      "source": [
        "np.isscalar([1,2,3])"
      ],
      "metadata": {
        "colab": {
          "base_uri": "https://localhost:8080/"
        },
        "id": "6_9uOS6orvco",
        "outputId": "ef969f51-1e16-4f51-b540-acee7e85fc13"
      },
      "execution_count": null,
      "outputs": [
        {
          "output_type": "execute_result",
          "data": {
            "text/plain": [
              "False"
            ]
          },
          "metadata": {},
          "execution_count": 39
        }
      ]
    },
    {
      "cell_type": "code",
      "source": [
        "# 9.Write a NumPy program to create an element-wise comparison (greater, greater_equal, less and\n",
        "# less_equal) of two given arrays.\n",
        "x = np.array([1, 7, 13, 105])\n",
        "y = np.array([1, 7, 303, 105])\n",
        "print(np.equal(x,y))\n",
        "print(np.greater(x,y))\n",
        "print(np.greater_equal(x,y))\n",
        "print(np.less(x,y))\n",
        "print(np.less_equal(x,y))"
      ],
      "metadata": {
        "colab": {
          "base_uri": "https://localhost:8080/"
        },
        "id": "Qz2gtOGys4MU",
        "outputId": "54649ac5-6093-4235-dd92-21854a421ebc"
      },
      "execution_count": null,
      "outputs": [
        {
          "output_type": "stream",
          "name": "stdout",
          "text": [
            "[ True  True False  True]\n",
            "[False False False False]\n",
            "[ True  True False  True]\n",
            "[False False  True False]\n",
            "[ True  True  True  True]\n"
          ]
        }
      ]
    },
    {
      "cell_type": "code",
      "source": [
        "# 10. Write a NumPy program to create an array with the values 1, 7, 13, 105 and determine the size of the\n",
        "# memory occupied by the array.\n",
        "x = np.array([1, 7, 13, 105])\n",
        "print(x.size)\n",
        "print(x.nbytes)"
      ],
      "metadata": {
        "colab": {
          "base_uri": "https://localhost:8080/"
        },
        "id": "ZNXphZlht3vY",
        "outputId": "cd94ae75-fe8b-46fa-edc3-b7e3bc8f1876"
      },
      "execution_count": null,
      "outputs": [
        {
          "output_type": "stream",
          "name": "stdout",
          "text": [
            "4\n",
            "32\n"
          ]
        }
      ]
    },
    {
      "cell_type": "code",
      "source": [
        "# 11 . Write a NumPy program to create an array of 10 zeros,10 ones, 10 fives.\n",
        "print(np.zeros(10))\n",
        "print(np.ones(10))\n",
        "print(np.ones(10)*5)"
      ],
      "metadata": {
        "colab": {
          "base_uri": "https://localhost:8080/"
        },
        "id": "7LmUYMqKujU0",
        "outputId": "079ad539-defb-494d-8704-7834208456d9"
      },
      "execution_count": null,
      "outputs": [
        {
          "output_type": "stream",
          "name": "stdout",
          "text": [
            "[0. 0. 0. 0. 0. 0. 0. 0. 0. 0.]\n",
            "[1. 1. 1. 1. 1. 1. 1. 1. 1. 1.]\n",
            "[5. 5. 5. 5. 5. 5. 5. 5. 5. 5.]\n"
          ]
        }
      ]
    },
    {
      "cell_type": "code",
      "source": [
        "# 12. Write a NumPy program to create an array of the integers from 30 to70.\n",
        "np.arange(30,70)"
      ],
      "metadata": {
        "colab": {
          "base_uri": "https://localhost:8080/"
        },
        "id": "n2PRNCUBvML-",
        "outputId": "f5e6d43c-1327-4f26-e965-01828a27326a"
      },
      "execution_count": null,
      "outputs": [
        {
          "output_type": "execute_result",
          "data": {
            "text/plain": [
              "array([30, 31, 32, 33, 34, 35, 36, 37, 38, 39, 40, 41, 42, 43, 44, 45, 46,\n",
              "       47, 48, 49, 50, 51, 52, 53, 54, 55, 56, 57, 58, 59, 60, 61, 62, 63,\n",
              "       64, 65, 66, 67, 68, 69])"
            ]
          },
          "metadata": {},
          "execution_count": 53
        }
      ]
    },
    {
      "cell_type": "code",
      "source": [
        "# 13 . Write a NumPy program to create an array of all the even integers from 30 to 70.\n",
        "np.arange(30,71,2)"
      ],
      "metadata": {
        "colab": {
          "base_uri": "https://localhost:8080/"
        },
        "id": "MJ0D4YC2vVu4",
        "outputId": "c3501c0d-fa9b-4ce9-c02b-1a9596f28656"
      },
      "execution_count": null,
      "outputs": [
        {
          "output_type": "execute_result",
          "data": {
            "text/plain": [
              "array([30, 32, 34, 36, 38, 40, 42, 44, 46, 48, 50, 52, 54, 56, 58, 60, 62,\n",
              "       64, 66, 68, 70])"
            ]
          },
          "metadata": {},
          "execution_count": 56
        }
      ]
    },
    {
      "cell_type": "code",
      "source": [
        "# 14. Write a NumPy program to create a 3x3 identity matrix.\n",
        "np.identity(3)"
      ],
      "metadata": {
        "colab": {
          "base_uri": "https://localhost:8080/"
        },
        "id": "57YeJdHDvhVn",
        "outputId": "60050fd4-f7b9-43f5-f133-19a385b2dccf"
      },
      "execution_count": null,
      "outputs": [
        {
          "output_type": "execute_result",
          "data": {
            "text/plain": [
              "array([[1., 0., 0.],\n",
              "       [0., 1., 0.],\n",
              "       [0., 0., 1.]])"
            ]
          },
          "metadata": {},
          "execution_count": 60
        }
      ]
    },
    {
      "cell_type": "code",
      "source": [
        "# 15 . Write a NumPy program to generate a random number between 0 and 1.\n",
        "np.random.rand(1)"
      ],
      "metadata": {
        "colab": {
          "base_uri": "https://localhost:8080/"
        },
        "id": "vlYaRb3NwAIK",
        "outputId": "b6278a42-724c-4bf1-e3c2-3ec03ae111f1"
      },
      "execution_count": null,
      "outputs": [
        {
          "output_type": "execute_result",
          "data": {
            "text/plain": [
              "array([0.39129396])"
            ]
          },
          "metadata": {},
          "execution_count": 81
        }
      ]
    },
    {
      "cell_type": "code",
      "source": [
        "# 16. Write a NumPy program to generate an array of 15 random numbers from a standard normal distribution.\n",
        "np.random.rand(15)"
      ],
      "metadata": {
        "colab": {
          "base_uri": "https://localhost:8080/"
        },
        "id": "yVejjLLTwEvf",
        "outputId": "89a98248-9ea1-4e52-f629-9fd323e325be"
      },
      "execution_count": null,
      "outputs": [
        {
          "output_type": "execute_result",
          "data": {
            "text/plain": [
              "array([0.93522272, 0.21757907, 0.99869955, 0.68505089, 0.9176016 ,\n",
              "       0.69401331, 0.4640709 , 0.86560509, 0.72133576, 0.98310728,\n",
              "       0.31018747, 0.84021828, 0.35239159, 0.36270196, 0.98649489])"
            ]
          },
          "metadata": {},
          "execution_count": 85
        }
      ]
    },
    {
      "cell_type": "code",
      "source": [
        "# 17. Write a NumPy program to create a vector with values ranging from 15 to 55 and print all values\n",
        "# except the first and last.\n",
        "x = np.arange(15, 56)\n",
        "x[1: -1]    #x[inclusive: exclusive]\n"
      ],
      "metadata": {
        "colab": {
          "base_uri": "https://localhost:8080/"
        },
        "id": "Zl4UNqB_wBSL",
        "outputId": "1df804e3-9633-46e1-92e2-9a55b2a75701"
      },
      "execution_count": null,
      "outputs": [
        {
          "output_type": "execute_result",
          "data": {
            "text/plain": [
              "array([16, 17, 18, 19, 20, 21, 22, 23, 24, 25, 26, 27, 28, 29, 30, 31, 32,\n",
              "       33, 34, 35, 36, 37, 38, 39, 40, 41, 42, 43, 44, 45, 46, 47, 48, 49,\n",
              "       50, 51, 52, 53, 54])"
            ]
          },
          "metadata": {},
          "execution_count": 90
        }
      ]
    },
    {
      "cell_type": "code",
      "source": [
        "a1D = np.array([1, 2, 3, 4])\n",
        "a2D = np.array([[1, 2], [3, 4]])\n",
        "a3D = np.array([[[1, 2], [3, 4]], [[5, 6], [7, 8]]])"
      ],
      "metadata": {
        "id": "LYF66hPyzfga"
      },
      "execution_count": null,
      "outputs": []
    },
    {
      "cell_type": "code",
      "source": [
        "print(a1D)\n",
        "print(a2D)\n",
        "print(a3D)"
      ],
      "metadata": {
        "colab": {
          "base_uri": "https://localhost:8080/"
        },
        "id": "6-NGSOyczgHp",
        "outputId": "a74fd271-a7af-4eed-c310-4216b4a27890"
      },
      "execution_count": null,
      "outputs": [
        {
          "output_type": "stream",
          "name": "stdout",
          "text": [
            "[1 2 3 4]\n",
            "[[1 2]\n",
            " [3 4]]\n",
            "[[[1 2]\n",
            "  [3 4]]\n",
            "\n",
            " [[5 6]\n",
            "  [7 8]]]\n"
          ]
        }
      ]
    },
    {
      "cell_type": "code",
      "source": [
        "# 18. Write a NumPy program to create a 3X4 array.\n",
        "np.random.randint(80,100,(3,4))"
      ],
      "metadata": {
        "colab": {
          "base_uri": "https://localhost:8080/"
        },
        "id": "rcNUpeiiz_0-",
        "outputId": "0abf4592-a3b8-4df2-d178-29126b64125c"
      },
      "execution_count": null,
      "outputs": [
        {
          "output_type": "execute_result",
          "data": {
            "text/plain": [
              "array([[84, 94, 95, 92],\n",
              "       [82, 84, 88, 96],\n",
              "       [94, 97, 81, 86]])"
            ]
          },
          "metadata": {},
          "execution_count": 96
        }
      ]
    },
    {
      "cell_type": "code",
      "source": [
        "# 19 . Write a NumPy program to create a vector of length 10 with values evenly distributed\n",
        "# between 5 and 50.\n",
        "\n",
        "np.linspace(5,50,10)"
      ],
      "metadata": {
        "colab": {
          "base_uri": "https://localhost:8080/"
        },
        "id": "L8D1p9cu0Y4B",
        "outputId": "7d38b6f4-8fc3-4286-809a-dc28a9875bd1"
      },
      "execution_count": null,
      "outputs": [
        {
          "output_type": "execute_result",
          "data": {
            "text/plain": [
              "array([ 5., 10., 15., 20., 25., 30., 35., 40., 45., 50.])"
            ]
          },
          "metadata": {},
          "execution_count": 98
        }
      ]
    },
    {
      "cell_type": "code",
      "source": [
        "# 20. Write a NumPy program to create a vector with values from 0 to 20 and change the sign of the\n",
        "# numbers in the range from 9 to 15.\n",
        "x = np.arange(0, 21)\n",
        "print(x)"
      ],
      "metadata": {
        "colab": {
          "base_uri": "https://localhost:8080/"
        },
        "id": "Tj1fGl_A00xD",
        "outputId": "295bf378-1430-453b-f5cb-e7f373f2ab4b"
      },
      "execution_count": null,
      "outputs": [
        {
          "output_type": "stream",
          "name": "stdout",
          "text": [
            "[ 0  1  2  3  4  5  6  7  8  9 10 11 12 13 14 15 16 17 18 19 20]\n"
          ]
        }
      ]
    },
    {
      "cell_type": "code",
      "source": [
        "sliced_arr = x[9: 16]\n",
        "sliced_arr"
      ],
      "metadata": {
        "colab": {
          "base_uri": "https://localhost:8080/"
        },
        "id": "Ab7zDYqA1Y--",
        "outputId": "8f650f67-851e-4e1f-cb2f-3ed6ac9d2243"
      },
      "execution_count": null,
      "outputs": [
        {
          "output_type": "execute_result",
          "data": {
            "text/plain": [
              "array([ 9, 10, 11, 12, 13, 14, 15])"
            ]
          },
          "metadata": {},
          "execution_count": 116
        }
      ]
    },
    {
      "cell_type": "code",
      "source": [
        "sliced_arr[:] = -(sliced_arr[:])\n",
        "print(sliced_arr)"
      ],
      "metadata": {
        "colab": {
          "base_uri": "https://localhost:8080/"
        },
        "id": "WRq8E6cs8-uJ",
        "outputId": "a9d4b92b-88ac-4c2d-fd62-b9e6d63ba3bb"
      },
      "execution_count": null,
      "outputs": [
        {
          "output_type": "stream",
          "name": "stdout",
          "text": [
            "[ -9 -10 -11 -12 -13 -14 -15]\n"
          ]
        }
      ]
    },
    {
      "cell_type": "code",
      "source": [
        "x"
      ],
      "metadata": {
        "colab": {
          "base_uri": "https://localhost:8080/"
        },
        "id": "FeIRQXPi1etI",
        "outputId": "ad0df2a0-7d37-4942-a29d-de3b622f9c3c"
      },
      "execution_count": null,
      "outputs": [
        {
          "output_type": "execute_result",
          "data": {
            "text/plain": [
              "array([  0,   1,   2,   3,   4,   5,   6,   7,   8,  -9, -10, -11, -12,\n",
              "       -13, -14, -15,  16,  17,  18,  19,  20])"
            ]
          },
          "metadata": {},
          "execution_count": 120
        }
      ]
    },
    {
      "cell_type": "code",
      "source": [
        "# 21 Write a NumPy program to create a vector of length 5 filled with arbitrary integers from 0 to 10.\n",
        "np.random.randint(0,10,5)"
      ],
      "metadata": {
        "colab": {
          "base_uri": "https://localhost:8080/"
        },
        "id": "wNvpAUH61hgk",
        "outputId": "aa998230-59c4-4676-c382-ab3ecc42947d"
      },
      "execution_count": null,
      "outputs": [
        {
          "output_type": "execute_result",
          "data": {
            "text/plain": [
              "array([0, 4, 8, 4, 9])"
            ]
          },
          "metadata": {},
          "execution_count": 122
        }
      ]
    },
    {
      "cell_type": "code",
      "source": [
        "# 22 . Write a NumPy program to multiply the values of two given vectors.\n",
        "x = np.array([1,2,3,4,5])\n",
        "y = np.array([9,8,7,6,5])\n",
        "np.multiply(x,y)\n",
        "print(x*y)"
      ],
      "metadata": {
        "colab": {
          "base_uri": "https://localhost:8080/"
        },
        "id": "HDs_o4Zf965M",
        "outputId": "db20b615-b9da-4b2d-8e1f-405524c0d104"
      },
      "execution_count": null,
      "outputs": [
        {
          "output_type": "stream",
          "name": "stdout",
          "text": [
            "[ 9 16 21 24 25]\n"
          ]
        }
      ]
    },
    {
      "cell_type": "code",
      "source": [
        "#  23 . Write a NumPy program to create a 3x4 matrix filled with values from 10 to 21.\n",
        "z = np.random.randint(10,21,(3,4))\n",
        "print(z)"
      ],
      "metadata": {
        "colab": {
          "base_uri": "https://localhost:8080/"
        },
        "id": "_c_BLz3e-yIq",
        "outputId": "b28cfc59-73c1-493c-a54c-819b94e46873"
      },
      "execution_count": null,
      "outputs": [
        {
          "output_type": "stream",
          "name": "stdout",
          "text": [
            "[[13 11 14 17]\n",
            " [10 13 11 11]\n",
            " [11 18 20 11]]\n"
          ]
        }
      ]
    },
    {
      "cell_type": "code",
      "source": [
        "# 24 . Write a NumPy program to find the number of rows and columns of a given matrix.\n",
        "np.shape(z)\n"
      ],
      "metadata": {
        "colab": {
          "base_uri": "https://localhost:8080/"
        },
        "id": "eU8wVrns_iWc",
        "outputId": "47bffeb2-6a1c-4f52-f404-0e375a572795"
      },
      "execution_count": null,
      "outputs": [
        {
          "output_type": "execute_result",
          "data": {
            "text/plain": [
              "(3, 4)"
            ]
          },
          "metadata": {},
          "execution_count": 133
        }
      ]
    },
    {
      "cell_type": "code",
      "source": [
        "# 25 . Write a NumPy program to create a 3x3 identity matrix, i.e. diagonal elements are 1, the rest are 0.\n",
        "np.identity(3)"
      ],
      "metadata": {
        "colab": {
          "base_uri": "https://localhost:8080/"
        },
        "id": "fhsVSlqJ_2DY",
        "outputId": "b7a51abe-16f8-4606-a637-5cf00d3f78c8"
      },
      "execution_count": null,
      "outputs": [
        {
          "output_type": "execute_result",
          "data": {
            "text/plain": [
              "array([[1., 0., 0.],\n",
              "       [0., 1., 0.],\n",
              "       [0., 0., 1.]])"
            ]
          },
          "metadata": {},
          "execution_count": 134
        }
      ]
    },
    {
      "cell_type": "code",
      "source": [
        "np.eye(3)*3"
      ],
      "metadata": {
        "colab": {
          "base_uri": "https://localhost:8080/"
        },
        "id": "JI9DtkweAAQP",
        "outputId": "18c8d943-9709-4f3f-823c-b4047cf50fdd"
      },
      "execution_count": null,
      "outputs": [
        {
          "output_type": "execute_result",
          "data": {
            "text/plain": [
              "array([[3., 0., 0.],\n",
              "       [0., 3., 0.],\n",
              "       [0., 0., 3.]])"
            ]
          },
          "metadata": {},
          "execution_count": 136
        }
      ]
    },
    {
      "cell_type": "code",
      "source": [
        "# 26 . Write a NumPy program to create a 10x10 matrix, in which the elements on the borders will be\n",
        "# equal to 1, and inside 0.\n",
        "\n",
        "a = np.random.randint(0,100,(10,10))\n",
        "a[1:-1, 1:-1] = 0\n",
        "print(a)"
      ],
      "metadata": {
        "colab": {
          "base_uri": "https://localhost:8080/"
        },
        "id": "4WUliJFUAGIe",
        "outputId": "f1578746-863c-45b6-d358-7785af2d1131"
      },
      "execution_count": null,
      "outputs": [
        {
          "output_type": "stream",
          "name": "stdout",
          "text": [
            "[[42 30 84  0 96 13  5 81 15 63]\n",
            " [46  0  0  0  0  0  0  0  0 45]\n",
            " [75  0  0  0  0  0  0  0  0 20]\n",
            " [76  0  0  0  0  0  0  0  0 93]\n",
            " [72  0  0  0  0  0  0  0  0 75]\n",
            " [62  0  0  0  0  0  0  0  0 70]\n",
            " [61  0  0  0  0  0  0  0  0  7]\n",
            " [82  0  0  0  0  0  0  0  0  0]\n",
            " [17  0  0  0  0  0  0  0  0 95]\n",
            " [37 95 41 12 63  5 78 44 57 36]]\n"
          ]
        }
      ]
    },
    {
      "cell_type": "code",
      "source": [
        "a[0:1] = 1\n",
        "print(a)"
      ],
      "metadata": {
        "colab": {
          "base_uri": "https://localhost:8080/"
        },
        "id": "5L1974raAnVj",
        "outputId": "84cb2cce-faf7-41d1-fc58-fac202ec2ec6"
      },
      "execution_count": null,
      "outputs": [
        {
          "output_type": "stream",
          "name": "stdout",
          "text": [
            "[[ 1  1  1  1  1  1  1  1  1  1]\n",
            " [ 1  0  0  0  0  0  0  0  0 45]\n",
            " [ 1  0  0  0  0  0  0  0  0 20]\n",
            " [ 1  0  0  0  0  0  0  0  0 93]\n",
            " [ 1  0  0  0  0  0  0  0  0 75]\n",
            " [ 1  0  0  0  0  0  0  0  0 70]\n",
            " [ 1  0  0  0  0  0  0  0  0  7]\n",
            " [ 1  0  0  0  0  0  0  0  0  0]\n",
            " [ 1  0  0  0  0  0  0  0  0 95]\n",
            " [ 1 95 41 12 63  5 78 44 57 36]]\n"
          ]
        }
      ]
    },
    {
      "cell_type": "code",
      "source": [
        "a[:,0:1] = 1\n",
        "a"
      ],
      "metadata": {
        "colab": {
          "base_uri": "https://localhost:8080/"
        },
        "id": "nfLtNv01CnBV",
        "outputId": "512f4758-4068-4a35-a35d-a040e69d07f9"
      },
      "execution_count": null,
      "outputs": [
        {
          "output_type": "execute_result",
          "data": {
            "text/plain": [
              "array([[ 1,  1,  1,  1,  1,  1,  1,  1,  1,  1],\n",
              "       [ 1,  0,  0,  0,  0,  0,  0,  0,  0, 45],\n",
              "       [ 1,  0,  0,  0,  0,  0,  0,  0,  0, 20],\n",
              "       [ 1,  0,  0,  0,  0,  0,  0,  0,  0, 93],\n",
              "       [ 1,  0,  0,  0,  0,  0,  0,  0,  0, 75],\n",
              "       [ 1,  0,  0,  0,  0,  0,  0,  0,  0, 70],\n",
              "       [ 1,  0,  0,  0,  0,  0,  0,  0,  0,  7],\n",
              "       [ 1,  0,  0,  0,  0,  0,  0,  0,  0,  0],\n",
              "       [ 1,  0,  0,  0,  0,  0,  0,  0,  0, 95],\n",
              "       [ 1, 95, 41, 12, 63,  5, 78, 44, 57, 36]])"
            ]
          },
          "metadata": {},
          "execution_count": 175
        }
      ]
    },
    {
      "cell_type": "code",
      "source": [
        "a[-1:] = 1\n",
        "a"
      ],
      "metadata": {
        "colab": {
          "base_uri": "https://localhost:8080/"
        },
        "id": "OQ74rgFxAXw4",
        "outputId": "5214f9b3-635b-44b5-d1a4-d48f4e9cd1c6"
      },
      "execution_count": null,
      "outputs": [
        {
          "output_type": "execute_result",
          "data": {
            "text/plain": [
              "array([[ 1,  1,  1,  1,  1,  1,  1,  1,  1,  1],\n",
              "       [ 1,  0,  0,  0,  0,  0,  0,  0,  0, 45],\n",
              "       [ 1,  0,  0,  0,  0,  0,  0,  0,  0, 20],\n",
              "       [ 1,  0,  0,  0,  0,  0,  0,  0,  0, 93],\n",
              "       [ 1,  0,  0,  0,  0,  0,  0,  0,  0, 75],\n",
              "       [ 1,  0,  0,  0,  0,  0,  0,  0,  0, 70],\n",
              "       [ 1,  0,  0,  0,  0,  0,  0,  0,  0,  7],\n",
              "       [ 1,  0,  0,  0,  0,  0,  0,  0,  0,  0],\n",
              "       [ 1,  0,  0,  0,  0,  0,  0,  0,  0, 95],\n",
              "       [ 1,  1,  1,  1,  1,  1,  1,  1,  1,  1]])"
            ]
          },
          "metadata": {},
          "execution_count": 178
        }
      ]
    },
    {
      "cell_type": "code",
      "source": [
        "a[:, -1:] = 1\n",
        "a"
      ],
      "metadata": {
        "colab": {
          "base_uri": "https://localhost:8080/"
        },
        "id": "_A8w6tyaBADH",
        "outputId": "ec2ffc35-0282-4e42-ef56-2e37d7eb374e"
      },
      "execution_count": null,
      "outputs": [
        {
          "output_type": "execute_result",
          "data": {
            "text/plain": [
              "array([[1, 1, 1, 1, 1, 1, 1, 1, 1, 1],\n",
              "       [1, 0, 0, 0, 0, 0, 0, 0, 0, 1],\n",
              "       [1, 0, 0, 0, 0, 0, 0, 0, 0, 1],\n",
              "       [1, 0, 0, 0, 0, 0, 0, 0, 0, 1],\n",
              "       [1, 0, 0, 0, 0, 0, 0, 0, 0, 1],\n",
              "       [1, 0, 0, 0, 0, 0, 0, 0, 0, 1],\n",
              "       [1, 0, 0, 0, 0, 0, 0, 0, 0, 1],\n",
              "       [1, 0, 0, 0, 0, 0, 0, 0, 0, 1],\n",
              "       [1, 0, 0, 0, 0, 0, 0, 0, 0, 1],\n",
              "       [1, 1, 1, 1, 1, 1, 1, 1, 1, 1]])"
            ]
          },
          "metadata": {},
          "execution_count": 182
        }
      ]
    },
    {
      "cell_type": "code",
      "source": [
        "#27. Write a NumPy program to create a 5x5 zero matrix with elements on the main diagonal equal to 1, 2,\n",
        "#3, 4, 5.\n",
        "\n",
        "a = np.diag([1, 2, 3, 4, 5])\n",
        "a"
      ],
      "metadata": {
        "colab": {
          "base_uri": "https://localhost:8080/"
        },
        "id": "o1KM1jACDlqd",
        "outputId": "05f6c4b3-45bc-4638-ec09-bdaef645d795"
      },
      "execution_count": null,
      "outputs": [
        {
          "output_type": "execute_result",
          "data": {
            "text/plain": [
              "array([[1, 0, 0, 0, 0],\n",
              "       [0, 2, 0, 0, 0],\n",
              "       [0, 0, 3, 0, 0],\n",
              "       [0, 0, 0, 4, 0],\n",
              "       [0, 0, 0, 0, 5]])"
            ]
          },
          "metadata": {},
          "execution_count": 184
        }
      ]
    },
    {
      "cell_type": "code",
      "source": [
        "#28. Write a NumPy program to create a 3x3x3 array filled with arbitrary values.\n",
        "np.random.randint(1, 20,(3,3,3))"
      ],
      "metadata": {
        "colab": {
          "base_uri": "https://localhost:8080/"
        },
        "id": "omnDeke_D1BX",
        "outputId": "dfdbc9bd-89f3-41b6-dfb3-9c00238f0f49"
      },
      "execution_count": null,
      "outputs": [
        {
          "output_type": "execute_result",
          "data": {
            "text/plain": [
              "array([[[ 2, 13,  8],\n",
              "        [15,  9, 18],\n",
              "        [15,  9,  1]],\n",
              "\n",
              "       [[16, 16, 14],\n",
              "        [ 5,  2, 17],\n",
              "        [ 5, 18,  3]],\n",
              "\n",
              "       [[16, 16, 13],\n",
              "        [ 7,  6, 16],\n",
              "        [17,  1,  9]]])"
            ]
          },
          "metadata": {},
          "execution_count": 186
        }
      ]
    },
    {
      "cell_type": "code",
      "source": [
        "#29. Write a NumPy program to compute the inner product of two given vectors.\n",
        "x = np.array([1,2,3,4,5])\n",
        "y = np.array([9,8,7,6,5])\n",
        "np.dot(x, y)\n"
      ],
      "metadata": {
        "colab": {
          "base_uri": "https://localhost:8080/"
        },
        "id": "xbnH_y5BEDMh",
        "outputId": "9f754663-6894-42a8-d8ad-966be56e44c3"
      },
      "execution_count": null,
      "outputs": [
        {
          "output_type": "execute_result",
          "data": {
            "text/plain": [
              "95"
            ]
          },
          "metadata": {},
          "execution_count": 188
        }
      ]
    },
    {
      "cell_type": "code",
      "source": [
        "# 30. Write a NumPy program to sort a given array by row and column in ascending order.\n",
        "x = np.array([[10, 7, 56, 8, 96, 69, 6, 55], [2, 5, 9, 3, 4, 0, 89, 68]])              #square brackets are important while creating n -dim array\n",
        "x"
      ],
      "metadata": {
        "colab": {
          "base_uri": "https://localhost:8080/"
        },
        "id": "oY44XGSOEeUz",
        "outputId": "3cd8792c-0682-475b-b938-003ad7899874"
      },
      "execution_count": null,
      "outputs": [
        {
          "output_type": "execute_result",
          "data": {
            "text/plain": [
              "array([[10,  7, 56,  8, 96, 69,  6, 55],\n",
              "       [ 2,  5,  9,  3,  4,  0, 89, 68]])"
            ]
          },
          "metadata": {},
          "execution_count": 195
        }
      ]
    },
    {
      "cell_type": "code",
      "source": [
        "x.sort()\n",
        "x"
      ],
      "metadata": {
        "colab": {
          "base_uri": "https://localhost:8080/"
        },
        "id": "YkVM83mqFXNC",
        "outputId": "d7880e08-98ea-4777-824d-dfa579395fcd"
      },
      "execution_count": null,
      "outputs": [
        {
          "output_type": "execute_result",
          "data": {
            "text/plain": [
              "array([[ 6,  7,  8, 10, 55, 56, 69, 96],\n",
              "       [ 0,  2,  3,  4,  5,  9, 68, 89]])"
            ]
          },
          "metadata": {},
          "execution_count": 196
        }
      ]
    },
    {
      "cell_type": "code",
      "source": [
        "# 31. Write a NumPy program to extract all numbers from a given array which are less and greater\n",
        "# than a specified number.\n",
        "\n",
        "np.extract(x>3,x)\n"
      ],
      "metadata": {
        "colab": {
          "base_uri": "https://localhost:8080/"
        },
        "id": "znfGBcOJFY6h",
        "outputId": "90cd39a3-ba10-4020-dd71-1dc6fef6f2c9"
      },
      "execution_count": null,
      "outputs": [
        {
          "output_type": "execute_result",
          "data": {
            "text/plain": [
              "array([ 6,  7,  8, 10, 55, 56, 69, 96,  4,  5,  9, 68, 89])"
            ]
          },
          "metadata": {},
          "execution_count": 202
        }
      ]
    },
    {
      "cell_type": "code",
      "source": [
        "# 32. Write a NumPy program to replace all numbers in a given array which is equal, less and greater to a\n",
        "# given number.\n",
        "z = np.array([ 6,  7,  8, 10, 55, 56, 69, 96,  4,  5,  9, 68, 89])\n",
        "z = np.where(z==69, 5, z)\n",
        "z\n"
      ],
      "metadata": {
        "colab": {
          "base_uri": "https://localhost:8080/"
        },
        "id": "BfUziGrCFkjp",
        "outputId": "b73f00c3-3616-4295-bb93-70e3bdef690e"
      },
      "execution_count": null,
      "outputs": [
        {
          "output_type": "execute_result",
          "data": {
            "text/plain": [
              "array([ 6,  7,  8, 10, 55, 56,  5, 96,  4,  5,  9, 68, 89])"
            ]
          },
          "metadata": {},
          "execution_count": 211
        }
      ]
    },
    {
      "cell_type": "code",
      "source": [
        "z = np.where(z>69, 1, z)\n",
        "z"
      ],
      "metadata": {
        "colab": {
          "base_uri": "https://localhost:8080/"
        },
        "id": "JDDvMsbrHIZZ",
        "outputId": "492d82de-001d-4426-ecbb-abe6255a2294"
      },
      "execution_count": null,
      "outputs": [
        {
          "output_type": "execute_result",
          "data": {
            "text/plain": [
              "array([ 6,  7,  8, 10, 55, 56,  5,  1,  4,  5,  9, 68,  1])"
            ]
          },
          "metadata": {},
          "execution_count": 212
        }
      ]
    },
    {
      "cell_type": "code",
      "source": [
        "z = np.where(z<69, 2, z)\n",
        "z"
      ],
      "metadata": {
        "colab": {
          "base_uri": "https://localhost:8080/"
        },
        "id": "B7Q2IdHJHM5Z",
        "outputId": "c9338a14-cee5-4871-e2ae-801af931c2af"
      },
      "execution_count": null,
      "outputs": [
        {
          "output_type": "execute_result",
          "data": {
            "text/plain": [
              "array([2, 2, 2, 2, 2, 2, 2, 2, 2, 2, 2, 2, 2])"
            ]
          },
          "metadata": {},
          "execution_count": 214
        }
      ]
    },
    {
      "cell_type": "code",
      "source": [
        "#33. Write a NumPy program to create an array of equal shape and data type of a given array.\n",
        "x = np.random.randint(10, 100,(2, 2))\n",
        "print(x.dtype)\n",
        "print(x)"
      ],
      "metadata": {
        "colab": {
          "base_uri": "https://localhost:8080/"
        },
        "id": "LeD61DmZHiJ_",
        "outputId": "a44df1dc-9d27-4641-df36-bc18d70ad5bd"
      },
      "execution_count": null,
      "outputs": [
        {
          "output_type": "stream",
          "name": "stdout",
          "text": [
            "int64\n",
            "[[42 46]\n",
            " [63 98]]\n"
          ]
        }
      ]
    },
    {
      "cell_type": "code",
      "source": [],
      "metadata": {
        "id": "uf4W5r9iHzgY"
      },
      "execution_count": null,
      "outputs": []
    },
    {
      "cell_type": "code",
      "source": [
        "#Write a NumPy program to create a three-dimension array with shape (3,5,4) and set to a\n",
        "#variable.\n",
        "x = np.random.randint(10, 100,(3, 5, 4))\n",
        "x"
      ],
      "metadata": {
        "colab": {
          "base_uri": "https://localhost:8080/"
        },
        "id": "u7jH0o0VIB_f",
        "outputId": "84e1752c-312d-4732-df47-4cd719ef3859"
      },
      "execution_count": null,
      "outputs": [
        {
          "output_type": "execute_result",
          "data": {
            "text/plain": [
              "array([[[92, 25, 64, 95],\n",
              "        [28, 56, 22, 60],\n",
              "        [88, 49, 25, 16],\n",
              "        [89, 52, 90, 65],\n",
              "        [60, 42, 53, 48]],\n",
              "\n",
              "       [[14, 28, 78, 78],\n",
              "        [26, 33, 28, 54],\n",
              "        [90, 22, 48, 48],\n",
              "        [17, 44, 43, 12],\n",
              "        [28, 66, 32, 29]],\n",
              "\n",
              "       [[85, 51, 13, 81],\n",
              "        [83, 22, 48, 76],\n",
              "        [36, 52, 60, 74],\n",
              "        [92, 40, 56, 74],\n",
              "        [97, 53, 26, 81]]])"
            ]
          },
          "metadata": {},
          "execution_count": 222
        }
      ]
    },
    {
      "cell_type": "code",
      "source": [
        "#35. Write a NumPy program to multiply two given arrays of same size element-by-element.\n",
        "x = np.array([1,2,3,4,5])\n",
        "y = np.array([9,8,7,6,5])\n",
        "print(x*y)\n"
      ],
      "metadata": {
        "colab": {
          "base_uri": "https://localhost:8080/"
        },
        "id": "aw0_2JxDIL8L",
        "outputId": "31e46fc3-2562-403c-e5fc-2f7f70fe066d"
      },
      "execution_count": null,
      "outputs": [
        {
          "output_type": "stream",
          "name": "stdout",
          "text": [
            "[ 9 16 21 24 25]\n"
          ]
        }
      ]
    },
    {
      "cell_type": "code",
      "source": [],
      "metadata": {
        "id": "uDJYcMlVIWfn"
      },
      "execution_count": null,
      "outputs": []
    }
  ]
}